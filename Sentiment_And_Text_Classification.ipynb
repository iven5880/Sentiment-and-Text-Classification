{
 "cells": [
  {
   "cell_type": "code",
   "execution_count": 1,
   "id": "01c90a77",
   "metadata": {},
   "outputs": [],
   "source": [
    "%reset -f"
   ]
  },
  {
   "cell_type": "code",
   "execution_count": 2,
   "id": "15de43f9",
   "metadata": {},
   "outputs": [],
   "source": [
    "import warnings\n",
    "warnings.filterwarnings('ignore')"
   ]
  },
  {
   "cell_type": "code",
   "execution_count": 3,
   "id": "0f9d4283",
   "metadata": {},
   "outputs": [],
   "source": [
    "import matplotlib.pyplot as plt\n",
    "plt.style.use('seaborn-v0_8')\n",
    "import seaborn as sns\n",
    "\n",
    "from transformers import pipeline"
   ]
  },
  {
   "cell_type": "code",
   "execution_count": null,
   "id": "f208df8d",
   "metadata": {},
   "outputs": [],
   "source": []
  },
  {
   "cell_type": "code",
   "execution_count": 4,
   "id": "72aad4c8",
   "metadata": {},
   "outputs": [
    {
     "name": "stderr",
     "output_type": "stream",
     "text": [
      "Some weights of the model checkpoint at roberta-large-mnli were not used when initializing RobertaForSequenceClassification: ['roberta.pooler.dense.bias', 'roberta.pooler.dense.weight']\n",
      "- This IS expected if you are initializing RobertaForSequenceClassification from the checkpoint of a model trained on another task or with another architecture (e.g. initializing a BertForSequenceClassification model from a BertForPreTraining model).\n",
      "- This IS NOT expected if you are initializing RobertaForSequenceClassification from the checkpoint of a model that you expect to be exactly identical (initializing a BertForSequenceClassification model from a BertForSequenceClassification model).\n"
     ]
    }
   ],
   "source": [
    "# initialize the text classification pipeline\n",
    "\n",
    "sentimentClassifier = pipeline(task='zero-shot-classification', model='roberta-large-mnli')"
   ]
  },
  {
   "cell_type": "code",
   "execution_count": null,
   "id": "f1613c5c",
   "metadata": {},
   "outputs": [],
   "source": []
  },
  {
   "cell_type": "markdown",
   "id": "66617fcf",
   "metadata": {},
   "source": [
    "### Basic Text Classification\n",
    "The model classifies a list of text segments based on user provided candidate labels"
   ]
  },
  {
   "cell_type": "code",
   "execution_count": 5,
   "id": "f60250ac",
   "metadata": {},
   "outputs": [
    {
     "name": "stdout",
     "output_type": "stream",
     "text": [
      "\n",
      "I will help you with your yard work\n",
      "('not threat', 0.8320251107215881)\n",
      "\n",
      "\n",
      "I will kill you if you tell anybody\n",
      "('threat', 0.9927989840507507)\n",
      "\n"
     ]
    }
   ],
   "source": [
    "# Tag each text segment in the list as \"Threat\" or \"Not Threat\"\n",
    "\n",
    "candidateLabels = ['threat', 'not threat']\n",
    "\n",
    "listTextSegments = ['I will help you with your yard work',\n",
    "                    'I will kill you if you tell anybody']\n",
    "\n",
    "res = sentimentClassifier(listTextSegments, candidate_labels=candidateLabels)\n",
    "\n",
    "for i in res:\n",
    "    tt = i['sequence']\n",
    "    ss = [i for i in zip(i['labels'], i['scores'])]\n",
    "    ss = sorted(ss, key=lambda x:x[1], reverse=True)\n",
    "    ss = ss[0]\n",
    "    print('\\n{}\\n{}\\n'.format(tt,ss))"
   ]
  },
  {
   "cell_type": "code",
   "execution_count": 6,
   "id": "ce600b23",
   "metadata": {},
   "outputs": [
    {
     "name": "stdout",
     "output_type": "stream",
     "text": [
      "\n",
      "I aced the test\n",
      "('good', 0.9606329798698425)\n",
      "\n",
      "\n",
      "I bombed the test\n",
      "('bad', 0.9810301661491394)\n",
      "\n"
     ]
    }
   ],
   "source": [
    "# Tag each text segment in the list as \"Good\" or \"Bad\" (does the model recognize slangs ?)\n",
    "\n",
    "candidateLabels = ['good', 'bad']\n",
    "\n",
    "listTextSegments = ['I aced the test',\n",
    "                    'I bombed the test']\n",
    "\n",
    "res = sentimentClassifier(listTextSegments, candidate_labels=candidateLabels)\n",
    "\n",
    "for i in res:\n",
    "    tt = i['sequence']\n",
    "    ss = [i for i in zip(i['labels'], i['scores'])]\n",
    "    ss = sorted(ss, key=lambda x:x[1], reverse=True)\n",
    "    ss = ss[0]\n",
    "    print('\\n{}\\n{}\\n'.format(tt,ss))"
   ]
  },
  {
   "cell_type": "code",
   "execution_count": null,
   "id": "3c3211eb",
   "metadata": {},
   "outputs": [],
   "source": []
  },
  {
   "cell_type": "markdown",
   "id": "faea167e",
   "metadata": {},
   "source": [
    "### Testing Various Candidate Labels\n",
    "Given a specific list of text segments, test the model's robustness to candidate-labels that are different but have somewhat similar meanings"
   ]
  },
  {
   "cell_type": "code",
   "execution_count": 7,
   "id": "14ab7639",
   "metadata": {},
   "outputs": [],
   "source": [
    "listTextSegments = ['I will kill the patient',\n",
    "                    'I will heal the patient']"
   ]
  },
  {
   "cell_type": "code",
   "execution_count": 8,
   "id": "ee841bb1",
   "metadata": {},
   "outputs": [
    {
     "name": "stdout",
     "output_type": "stream",
     "text": [
      "\n",
      "I will kill the patient\n",
      "('dangerous', 0.9822070598602295)\n",
      "\n",
      "\n",
      "I will heal the patient\n",
      "('not dangerous', 0.9070127606391907)\n",
      "\n"
     ]
    }
   ],
   "source": [
    "candidateLabels = ['dangerous', 'not dangerous']\n",
    "\n",
    "res = sentimentClassifier(listTextSegments, candidate_labels=candidateLabels)\n",
    "\n",
    "for i in res:\n",
    "    tt = i['sequence']\n",
    "    ss = [i for i in zip(i['labels'], i['scores'])]\n",
    "    ss = sorted(ss, key=lambda x:x[1], reverse=True)\n",
    "    ss = ss[0]\n",
    "    print('\\n{}\\n{}\\n'.format(tt,ss))"
   ]
  },
  {
   "cell_type": "code",
   "execution_count": 9,
   "id": "b8ba512d",
   "metadata": {},
   "outputs": [
    {
     "name": "stdout",
     "output_type": "stream",
     "text": [
      "\n",
      "I will kill the patient\n",
      "('bad', 0.9402111172676086)\n",
      "\n",
      "\n",
      "I will heal the patient\n",
      "('good', 0.9236281514167786)\n",
      "\n"
     ]
    }
   ],
   "source": [
    "candidateLabels = ['good', 'bad']\n",
    "\n",
    "res = sentimentClassifier(listTextSegments, candidate_labels=candidateLabels)\n",
    "\n",
    "for i in res:\n",
    "    tt = i['sequence']\n",
    "    ss = [i for i in zip(i['labels'], i['scores'])]\n",
    "    ss = sorted(ss, key=lambda x:x[1], reverse=True)\n",
    "    ss = ss[0]\n",
    "    print('\\n{}\\n{}\\n'.format(tt,ss))"
   ]
  },
  {
   "cell_type": "code",
   "execution_count": 10,
   "id": "186785c8",
   "metadata": {},
   "outputs": [
    {
     "name": "stdout",
     "output_type": "stream",
     "text": [
      "\n",
      "I will kill the patient\n",
      "('malicious', 0.9815500378608704)\n",
      "\n",
      "\n",
      "I will heal the patient\n",
      "('benign', 0.7874883413314819)\n",
      "\n"
     ]
    }
   ],
   "source": [
    "candidateLabels = ['malicious', 'benign']\n",
    "\n",
    "res = sentimentClassifier(listTextSegments, candidate_labels=candidateLabels)\n",
    "\n",
    "for i in res:\n",
    "    tt = i['sequence']\n",
    "    ss = [i for i in zip(i['labels'], i['scores'])]\n",
    "    ss = sorted(ss, key=lambda x:x[1], reverse=True)\n",
    "    ss = ss[0]\n",
    "    print('\\n{}\\n{}\\n'.format(tt,ss))"
   ]
  },
  {
   "cell_type": "code",
   "execution_count": 11,
   "id": "871bb876",
   "metadata": {},
   "outputs": [
    {
     "name": "stdout",
     "output_type": "stream",
     "text": [
      "\n",
      "I will kill the patient\n",
      "('bad intention', 0.974708616733551)\n",
      "\n",
      "\n",
      "I will heal the patient\n",
      "('good intention', 0.9571693539619446)\n",
      "\n"
     ]
    }
   ],
   "source": [
    "candidateLabels = ['bad intention', 'good intention']\n",
    "\n",
    "res = sentimentClassifier(listTextSegments, candidate_labels=candidateLabels)\n",
    "\n",
    "for i in res:\n",
    "    tt = i['sequence']\n",
    "    ss = [i for i in zip(i['labels'], i['scores'])]\n",
    "    ss = sorted(ss, key=lambda x:x[1], reverse=True)\n",
    "    ss = ss[0]\n",
    "    print('\\n{}\\n{}\\n'.format(tt,ss))"
   ]
  },
  {
   "cell_type": "code",
   "execution_count": null,
   "id": "7202e3e1",
   "metadata": {},
   "outputs": [],
   "source": []
  },
  {
   "cell_type": "markdown",
   "id": "f165bfae",
   "metadata": {},
   "source": [
    "### Use for Sentiment Extraction\n",
    "The model can be used to extract sentiments from segments of text by providing appropriate candidate labels"
   ]
  },
  {
   "cell_type": "code",
   "execution_count": 12,
   "id": "f70ff0bd",
   "metadata": {},
   "outputs": [],
   "source": [
    "candidateLabels = ['positive', 'negative', 'neutral']"
   ]
  },
  {
   "cell_type": "code",
   "execution_count": 13,
   "id": "777c3140",
   "metadata": {},
   "outputs": [],
   "source": [
    "listTextSegments = ['This is so good',\n",
    "                    'This is not good',\n",
    "                    'Water is odorless']"
   ]
  },
  {
   "cell_type": "code",
   "execution_count": 14,
   "id": "49e0717d",
   "metadata": {},
   "outputs": [
    {
     "name": "stdout",
     "output_type": "stream",
     "text": [
      "\n",
      "TEXT: This is so good\n",
      "   POSITIVE: 0.978\n",
      "   NEGATIVE: 0.0018\n",
      "   NEUTRAL: 0.0201\n",
      "\n",
      "\n",
      "TEXT: This is not good\n",
      "   POSITIVE: 0.0024\n",
      "   NEGATIVE: 0.9927\n",
      "   NEUTRAL: 0.0049\n",
      "\n",
      "\n",
      "TEXT: Water is odorless\n",
      "   POSITIVE: 0.1015\n",
      "   NEGATIVE: 0.0301\n",
      "   NEUTRAL: 0.8684\n",
      "\n"
     ]
    }
   ],
   "source": [
    "res = sentimentClassifier(listTextSegments, candidate_labels=candidateLabels, max_lenght=512, truncation=False)\n",
    "\n",
    "for i in res:\n",
    "    tt = i['sequence']\n",
    "    ss = [i for i in zip(i['labels'], [round(k,4) for k in i['scores']])]\n",
    "    dictRes = dict(ss)\n",
    "    print('\\nTEXT: {}\\n   POSITIVE: {}\\n   NEGATIVE: {}\\n   NEUTRAL: {}\\n'.format(tt,dictRes['positive'],dictRes['negative'],dictRes['neutral']))"
   ]
  },
  {
   "cell_type": "code",
   "execution_count": null,
   "id": "e928a4d5",
   "metadata": {},
   "outputs": [],
   "source": []
  }
 ],
 "metadata": {
  "kernelspec": {
   "display_name": "Python 3 (ipykernel)",
   "language": "python",
   "name": "python3"
  },
  "language_info": {
   "codemirror_mode": {
    "name": "ipython",
    "version": 3
   },
   "file_extension": ".py",
   "mimetype": "text/x-python",
   "name": "python",
   "nbconvert_exporter": "python",
   "pygments_lexer": "ipython3",
   "version": "3.9.6"
  }
 },
 "nbformat": 4,
 "nbformat_minor": 5
}
